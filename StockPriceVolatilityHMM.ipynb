{
  "nbformat": 4,
  "nbformat_minor": 0,
  "metadata": {
    "colab": {
      "name": "StockPriceHMM (8).ipynb",
      "version": "0.3.2",
      "provenance": [],
      "collapsed_sections": []
    },
    "kernelspec": {
      "name": "python3",
      "display_name": "Python 3"
    },
    "accelerator": "GPU"
  },
  "cells": [
    {
      "cell_type": "markdown",
      "metadata": {
        "id": "LNzt9NDoFXKY",
        "colab_type": "text"
      },
      "source": [
        "# Stock Market Volatility Analysis"
      ]
    },
    {
      "cell_type": "markdown",
      "metadata": {
        "id": "UnADDJRPFsUG",
        "colab_type": "text"
      },
      "source": [
        "### Introduction: Suppose the volatility of the stock market is governed by a hidden factor that is not directly measurable. We attempt to establish a Hidden Markov Model to quantify how the volatility of a particular stock is influenced by that mysterious ecomomical factor. Moreover, we quantify if the stock in consideration is of high volatility or of low volatility.\n",
        "### Data: The data we use is the first 2200 historical records of the open prices of the Carriage Service Inc.\n",
        "### Model: A Hidden Markov Model with three hidden states: bear market, normal market, bull market. We measure volatility by one-day percentage price change. We assume conditioning on each hidden state, the one-day percentage price change follows a normal distribution whose mean and variance are to be determined such that the probability of seeing the actual open price sequence is maximized. A similar (if not the same) approach is used in  http://jcyhong.github.io/assets/intro-hmm-stock.pdf where the means conditioning on different hidden states are assumed to be zero. We choose not to use solely variance to describe the volatility since we want to know if the price is likely to grow up or down. The variance alone fails to provide the up/down infomation. Mathematically, two mean-zero normal random variables $X$ and -$X$ share the same variance but have opposite signs.\n",
        "### Validation Method: We will use a training set to fit our model and a testing set to see if our model describes the pattern in the testing set.\n",
        "### Notations: In most context of $\\pi$ denotes the initial state distribution of the hidden states; A denotes the transition matrix of the hidden states; B is the aquisition matrix storing the parameters  of the distribution of observable events conditioning on different hidden states. We will use the same notations. \n",
        "### Limitation: The Hidden Markov Model developed in this project is not meaned for stock price prediction as that will give poor prediction results (see http://jcyhong.github.io/assets/intro-hmm-stock.pdf for more).\n"
      ]
    },
    {
      "cell_type": "code",
      "metadata": {
        "id": "1nfkWHjxYr-H",
        "colab_type": "code",
        "outputId": "91f7b63d-8251-4a84-b873-7818d187d3ce",
        "colab": {
          "base_uri": "https://localhost:8080/",
          "height": 122
        }
      },
      "source": [
        "from google.colab import drive \n",
        "drive.mount('/content/gdrive')"
      ],
      "execution_count": 0,
      "outputs": [
        {
          "output_type": "stream",
          "text": [
            "Go to this URL in a browser: https://accounts.google.com/o/oauth2/auth?client_id=947318989803-6bn6qk8qdgf4n4g3pfee6491hc0brc4i.apps.googleusercontent.com&redirect_uri=urn%3Aietf%3Awg%3Aoauth%3A2.0%3Aoob&scope=email%20https%3A%2F%2Fwww.googleapis.com%2Fauth%2Fdocs.test%20https%3A%2F%2Fwww.googleapis.com%2Fauth%2Fdrive%20https%3A%2F%2Fwww.googleapis.com%2Fauth%2Fdrive.photos.readonly%20https%3A%2F%2Fwww.googleapis.com%2Fauth%2Fpeopleapi.readonly&response_type=code\n",
            "\n",
            "Enter your authorization code:\n",
            "··········\n",
            "Mounted at /content/gdrive\n"
          ],
          "name": "stdout"
        }
      ]
    },
    {
      "cell_type": "code",
      "metadata": {
        "id": "0eGKyTfzKd4N",
        "colab_type": "code",
        "colab": {}
      },
      "source": [
        "import pandas as pd\n",
        "import numpy as np\n",
        "from scipy.stats import norm\n"
      ],
      "execution_count": 0,
      "outputs": []
    },
    {
      "cell_type": "markdown",
      "metadata": {
        "id": "sy2o0JU-Mjh-",
        "colab_type": "text"
      },
      "source": [
        "### Load data and generate the one-day price change: (Price in Day $i+1$ -Price in Day $i$)/Price in Day $i$. Separate the price change sequence into a training set and a testing set with a ratio  about 10:1 ."
      ]
    },
    {
      "cell_type": "code",
      "metadata": {
        "id": "VXhmLRDJZQYY",
        "colab_type": "code",
        "colab": {}
      },
      "source": [
        "CarriageService = pd.read_csv('gdrive/My Drive/CarriageServicesStockPrice.csv')\n",
        "CarriageServiceTrain = CarriageService.iloc[:2000,:][['Open']]\n",
        "CarriageServiceTest = CarriageService.iloc[2000:2200,:][['Open']]"
      ],
      "execution_count": 0,
      "outputs": []
    },
    {
      "cell_type": "code",
      "metadata": {
        "id": "kgk8NGhrBOus",
        "colab_type": "code",
        "outputId": "21096a58-f372-4c75-b8a2-cce02375310e",
        "colab": {
          "base_uri": "https://localhost:8080/",
          "height": 34
        }
      },
      "source": [
        "price_sequence_train = np.array(CarriageServiceTrain).reshape(1,-1)[0]\n",
        "\n",
        "price_sequence_test = np.array(CarriageServiceTest).reshape(1,-1)[0]\n",
        "\n",
        "print(len(price_sequence_train),len(price_sequence_test))"
      ],
      "execution_count": 0,
      "outputs": [
        {
          "output_type": "stream",
          "text": [
            "2000 200\n"
          ],
          "name": "stdout"
        }
      ]
    },
    {
      "cell_type": "code",
      "metadata": {
        "id": "cZNTF61WBa-b",
        "colab_type": "code",
        "colab": {}
      },
      "source": [
        "train_diff = np.diff(price_sequence_train)\n",
        "test_diff = np.diff(price_sequence_test)\n",
        "train_diff = train_diff/price_sequence_train[0:len(price_sequence_train)-1]\n",
        "test_diff = test_diff/price_sequence_test[0:len(price_sequence_test)-1]"
      ],
      "execution_count": 0,
      "outputs": []
    },
    {
      "cell_type": "markdown",
      "metadata": {
        "id": "ZyZ2ls7Br2My",
        "colab_type": "text"
      },
      "source": [
        "#### Stats on the difference data.\n",
        "\n"
      ]
    },
    {
      "cell_type": "code",
      "metadata": {
        "id": "NSMQjT5gtpNb",
        "colab_type": "code",
        "outputId": "e0e5d52f-fe24-4e13-fb41-d4f4bf944662",
        "colab": {
          "base_uri": "https://localhost:8080/",
          "height": 34
        }
      },
      "source": [
        "np.mean(train_diff)"
      ],
      "execution_count": 0,
      "outputs": [
        {
          "output_type": "execute_result",
          "data": {
            "text/plain": [
              "-0.001155761181186319"
            ]
          },
          "metadata": {
            "tags": []
          },
          "execution_count": 13
        }
      ]
    },
    {
      "cell_type": "code",
      "metadata": {
        "id": "Xp2FI4ketxwQ",
        "colab_type": "code",
        "outputId": "bd727fe1-97a1-4165-fbbb-f18e5c109605",
        "colab": {
          "base_uri": "https://localhost:8080/",
          "height": 34
        }
      },
      "source": [
        "np.max(train_diff)"
      ],
      "execution_count": 0,
      "outputs": [
        {
          "output_type": "execute_result",
          "data": {
            "text/plain": [
              "0.19402985074626866"
            ]
          },
          "metadata": {
            "tags": []
          },
          "execution_count": 14
        }
      ]
    },
    {
      "cell_type": "code",
      "metadata": {
        "id": "mRJJnBKft3W6",
        "colab_type": "code",
        "outputId": "a93e09b8-5c90-4490-9b05-06ebcb17b195",
        "colab": {
          "base_uri": "https://localhost:8080/",
          "height": 34
        }
      },
      "source": [
        "np.min(train_diff)"
      ],
      "execution_count": 0,
      "outputs": [
        {
          "output_type": "execute_result",
          "data": {
            "text/plain": [
              "-0.2025862068965517"
            ]
          },
          "metadata": {
            "tags": []
          },
          "execution_count": 15
        }
      ]
    },
    {
      "cell_type": "code",
      "metadata": {
        "id": "OogV9VQdDZQZ",
        "colab_type": "code",
        "outputId": "7223a33a-1150-48c8-b4ec-b2b063513a12",
        "colab": {
          "base_uri": "https://localhost:8080/",
          "height": 34
        }
      },
      "source": [
        "np.std(train_diff)"
      ],
      "execution_count": 0,
      "outputs": [
        {
          "output_type": "execute_result",
          "data": {
            "text/plain": [
              "0.03275022339150875"
            ]
          },
          "metadata": {
            "tags": []
          },
          "execution_count": 16
        }
      ]
    },
    {
      "cell_type": "code",
      "metadata": {
        "id": "TEfrmskIe0wb",
        "colab_type": "code",
        "outputId": "dfaf9789-a307-408b-aaa2-c63d515f22f3",
        "colab": {
          "base_uri": "https://localhost:8080/",
          "height": 34
        }
      },
      "source": [
        "train_diff[-1]"
      ],
      "execution_count": 0,
      "outputs": [
        {
          "output_type": "execute_result",
          "data": {
            "text/plain": [
              "-0.045454545454545456"
            ]
          },
          "metadata": {
            "tags": []
          },
          "execution_count": 17
        }
      ]
    },
    {
      "cell_type": "markdown",
      "metadata": {
        "id": "npMMsoHLHDuF",
        "colab_type": "text"
      },
      "source": [
        "### Initialization of Pi, A, B. \n",
        "\n",
        "\n",
        "\n",
        "\n"
      ]
    },
    {
      "cell_type": "code",
      "metadata": {
        "id": "xIW1Rqo3xSmv",
        "colab_type": "code",
        "colab": {}
      },
      "source": [
        "Pi = np.array([0.33,0.33,0.34])\n",
        "A = np.array([[0.33,0.33,0.34],[0.33,0.33,0.34],[0.33,0.33,0.34]]) #A[i][j] = P(X_{t}=j|X_{t-1}=i)\n",
        "B = np.array([[-0.20,0,0.20],[0.033,0.033,0.033]]).T"
      ],
      "execution_count": 0,
      "outputs": []
    },
    {
      "cell_type": "markdown",
      "metadata": {
        "id": "81AD126eKN46",
        "colab_type": "text"
      },
      "source": [
        "### The Alpha-pass function"
      ]
    },
    {
      "cell_type": "markdown",
      "metadata": {
        "id": "Ly42CNLDP3SJ",
        "colab_type": "text"
      },
      "source": [
        "#### Calculate $P(X \\in B_{\\epsilon}(pricediff))$ given that X is a normal with mean row[0] and standard deviation row[1]."
      ]
    },
    {
      "cell_type": "code",
      "metadata": {
        "id": "1Xqz0d8_WZKh",
        "colab_type": "code",
        "colab": {}
      },
      "source": [
        "def local_prob(price_diff, epsilon, param_matrix):    \n",
        "    return [norm.cdf((price_diff+epsilon-row[0])/row[1])-norm.cdf((price_diff-epsilon-row[0])/row[1]) for index, row in enumerate(param_matrix)]\n",
        "        "
      ],
      "execution_count": 0,
      "outputs": []
    },
    {
      "cell_type": "markdown",
      "metadata": {
        "id": "nQTjnsXgQcaz",
        "colab_type": "text"
      },
      "source": [
        "\n",
        "$\\alpha_{t}(i) = P(B_{\\epsilon}(O_{0}),...,B_{\\epsilon}(O_{t}),x_{t} = q_{i}| \\lambda)$\n",
        "\n",
        "$\\alpha_{0}(i) = \\pi_{i} b_{i}(O_{0})$\n",
        "\n",
        "$\\alpha_{t}(i) = \\sum_{j} \\alpha_{t-1}(j)a_{ji}b_{i}(B_{\\epsilon}(O_{t}))$"
      ]
    },
    {
      "cell_type": "code",
      "metadata": {
        "id": "UGANa1i3KRVD",
        "colab_type": "code",
        "colab": {}
      },
      "source": [
        "def forward_pass(Pi, A, B): \n",
        "    epsilon = 0.2\n",
        "    # alpha_{0}    \n",
        "    c = [1/np.dot(local_prob(train_diff[0],epsilon,B),Pi)]\n",
        "    alpha = [np.array([item[0]*item[1]*c[0] for index, item in enumerate(np.vstack([Pi,local_prob(train_diff[0],epsilon,B)]).T)])]\n",
        "    # alpha_{t} t = 1,...,T-1\n",
        "    for t in range(1,len(train_diff)): # initialization for the rest in the price sequence\n",
        "        c += [0]\n",
        "        alpha.append(np.zeros(shape=A.shape[1]))\n",
        "    for t in range(1,len(train_diff)):             \n",
        "        for i in range(A.shape[1]):            \n",
        "            alpha[t][i] += np.dot(alpha[t-1],A.T[i])*local_prob(train_diff[t],epsilon,B)[i] \n",
        "        c[t] = 1/np.sum([alpha[t][i] for i in range(A.shape[1])])    \n",
        "        for i in range(A.shape[1]):\n",
        "            alpha[t][i] *= c[t]\n",
        "    return [alpha,c]\n",
        "\n",
        "#forward_pass(Pi,A,B)[0] # this gives alpha, uncomment to test\n",
        "#forward_pass(Pi,A,B)[1] # this gives c, uncomment to test"
      ],
      "execution_count": 0,
      "outputs": []
    },
    {
      "cell_type": "markdown",
      "metadata": {
        "id": "7p6XcEcOCZS7",
        "colab_type": "text"
      },
      "source": [
        "### The Beta-pass function"
      ]
    },
    {
      "cell_type": "markdown",
      "metadata": {
        "id": "8i5oUTN5WEfb",
        "colab_type": "text"
      },
      "source": [
        "$\\beta_{t}(i) = P(B_{\\epsilon}(O_{t+1}),...,B_{\\epsilon}(O_{T-1})|x_{t}=q_{i},\\lambda)$\n",
        "\n",
        "$\\beta_{T-1}(i)=1$\n",
        "\n",
        "$\\beta_{t}(i) = \\sum_{j}a_{ij}b_{j}(B_{\\epsilon}(O_{t+1}))\\beta_{t+1}(j)$"
      ]
    },
    {
      "cell_type": "code",
      "metadata": {
        "id": "WDDk9rraKoOq",
        "colab_type": "code",
        "colab": {}
      },
      "source": [
        "def backward_pass(Pi, A, B):\n",
        "    epsilon = 0.2\n",
        "    # initialization\n",
        "    beta = []\n",
        "    for t in range(0,len(train_diff)):\n",
        "        beta.append(np.zeros(A.shape[1]))\n",
        "    c = forward_pass(Pi,A,B)[1]\n",
        "    # beta_{T-1}\n",
        "    beta[len(train_diff)-1]=c[len(train_diff)-1]*np.ones(shape=A.shape[1])\n",
        "    \n",
        "    # beta_{t} t = T-2, ..., 0\n",
        "    for t in range(len(train_diff)-2,-1,-1):\n",
        "        for i in range(A.shape[1]):\n",
        "            for j in range(A.shape[1]):\n",
        "                beta[t][i] += A[i][j]*local_prob(train_diff[t+1],epsilon,B)[j]*beta[t+1][j]\n",
        "            beta[t][i] *= c[t] # beta_hat\n",
        "    return beta\n",
        "\n",
        "#backward_pass(Pi, A, B) # uncomment to test"
      ],
      "execution_count": 0,
      "outputs": []
    },
    {
      "cell_type": "markdown",
      "metadata": {
        "id": "r8TCHlwULxg7",
        "colab_type": "text"
      },
      "source": [
        "### The gamma_functions returns di-gamma(denoted by Gamma) and gamma"
      ]
    },
    {
      "cell_type": "markdown",
      "metadata": {
        "id": "H6pPCn5JX5Td",
        "colab_type": "text"
      },
      "source": [
        "Gamma: $\\gamma_{t}(i)=P(x_{t}=q_{i}|O,\\lambda) = \\sum_{j}\\gamma_{t}(i,j)$\n",
        "\n",
        "gamma: $\\gamma_{t}(i,j) = P(x_{t}=q_{i},x_{t+1}=q_{j}|O,\\lambda) = \\alpha_{t}(i)a_{ij}b_{j}(B_{\\epsilon}(O_{t+1}))\\beta_{t+1}(j)$\n",
        "\n",
        "Please note that $\\alpha$ and $\\beta$ are scaled so no need to divide by $P(O|\\lambda)$ in $\\gamma_{t}(i,j)$."
      ]
    },
    {
      "cell_type": "code",
      "metadata": {
        "id": "32t-o8PqL7kW",
        "colab_type": "code",
        "colab": {}
      },
      "source": [
        "def gamma_functions(Pi, A, B):\n",
        "    epsilon = 0.2\n",
        "    # initialization \n",
        "    Gamma = [] # Gamma_{t}(i) = P(x_{t}=q_{i}|O,lambda) for t = 0,...,T-1; i=0,1\n",
        "    gamma = [] # gamma_{t}(i,j) = P(x_{t}=q_{i},x_{t+1}=q_{j}|O,lambda) for t = 0,...,T-1; i,j=0,1\n",
        "    alpha = forward_pass(Pi, A, B)[0]\n",
        "    beta = backward_pass(Pi, A, B)\n",
        "    for t in range(0,len(train_diff)):\n",
        "        Gamma.append(np.zeros(shape=A.shape[1]))\n",
        "        gamma.append(np.zeros(shape=(A.shape[1],A.shape[1])))\n",
        "    \n",
        "    # Real computation begins\n",
        "    for t in range(0,len(train_diff)-1):\n",
        "        for i in range(A.shape[1]):\n",
        "            for j in range(A.shape[1]):\n",
        "                gamma[t][i][j] += alpha[t][i]*A[i][j]*local_prob(train_diff[t+1],epsilon,B)[j]*beta[t+1][j]\n",
        "                Gamma[t][i] += gamma[t][i][j]\n",
        "\n",
        "    # Gamma_{T-1} is special and cannot be generated by induction\n",
        "    Gamma[len(train_diff)-1] = alpha[len(train_diff)-1]\n",
        "    \n",
        "    return [Gamma, gamma]\n",
        "\n",
        "#gamma_functions(Pi,A,B)[0] # this gives Gamma, uncomment to test\n",
        "#gamma_functions(Pi,A,B)[1] # this gives gamma, uncomment to test"
      ],
      "execution_count": 0,
      "outputs": []
    },
    {
      "cell_type": "markdown",
      "metadata": {
        "id": "QUuTGrdgMEbm",
        "colab_type": "text"
      },
      "source": [
        "### Update Pi, A and B based on 1 round of iteration"
      ]
    },
    {
      "cell_type": "markdown",
      "metadata": {
        "id": "lNuEhfriyMIB",
        "colab_type": "text"
      },
      "source": [
        "#### Auxillary function to measure $P(X \\in B_{\\epsilon}(pricediff) | \\lambda)$ , $X$ is normal with mean and variance prescribed by $\\lambda$."
      ]
    },
    {
      "cell_type": "code",
      "metadata": {
        "id": "OMOE1V_h-zzM",
        "colab_type": "code",
        "colab": {}
      },
      "source": [
        "def local_prob_interval(price_diff, epsilon, param_matrix):    \n",
        "    return np.array([np.array([norm.cdf((price_diff-epsilon-row[0])/row[1]),norm.cdf((price_diff+epsilon-row[0])/row[1])])for index, row in enumerate(param_matrix)])\n",
        "#local_prob_interval(5, 0.01, B)"
      ],
      "execution_count": 0,
      "outputs": []
    },
    {
      "cell_type": "markdown",
      "metadata": {
        "id": "qMlyI9Zi0TbZ",
        "colab_type": "text"
      },
      "source": [
        "$\\pi = \\gamma_{0}(i)$\n",
        "\n",
        "$a_{ij} = \\sum_{t=0}^{T-2} \\gamma_{t}(i,j)/\\sum_{t=0}^{T-2} \\gamma_{t}(i)$\n",
        "\n",
        "$b_{j}(B_{\\epsilon}(k)) = \\sum_{t:O_{t} \\in B_{\\epsilon}(k)} \\gamma_{t}(i) /\\sum_{t} \\gamma_{t}(j)$ \n",
        "\n",
        "#### In the following, k =price_diff. Recall that we want to maximize the likelihood of the observed price_diff sequence.\n"
      ]
    },
    {
      "cell_type": "code",
      "metadata": {
        "id": "IoyhOGA4MOQr",
        "colab_type": "code",
        "colab": {}
      },
      "source": [
        "def model_update(Pi, A, B):\n",
        "    epsilon = 0.2\n",
        "    price_diff_sequence = train_diff\n",
        "    \n",
        "    # Initialization\n",
        "    A_new = np.zeros(A.shape)\n",
        "    B_new = np.zeros(B.shape)\n",
        "    prob_transit_interval = [local_prob_interval(price_diff, epsilon, B) for index, price_diff in enumerate(price_diff_sequence)]\n",
        "    [Gamma, gamma] = gamma_functions(Pi, A, B)\n",
        "    \n",
        "    # Update Pi\n",
        "    Pi_new = Gamma[0]                                             \n",
        "    \n",
        "    # Update A\n",
        "    for i in range(A.shape[0]):\n",
        "        denom = 0\n",
        "        for t in range(len(price_diff_sequence)-1):\n",
        "            denom += Gamma[t][i]\n",
        "        for j in range(A.shape[1]):\n",
        "            numer = 0\n",
        "            for t in range(len(price_diff_sequence)-1):\n",
        "                numer += gamma[t][i][j]\n",
        "            A_new[i][j] = numer/denom\n",
        "    \n",
        "    # Update B\n",
        "    for j in range(A.shape[0]):\n",
        "        for index, item in enumerate(prob_transit_interval):\n",
        "            numer = 0\n",
        "            for t in range(len(price_diff_sequence)):   \n",
        "                if norm.cdf((price_diff_sequence[t]-B[j][0])/B[j][1]) <= item[j][1] and norm.cdf((price_diff_sequence[t]-B[j][0])/B[j][1]) >= item[j][0]:\n",
        "                   numer += Gamma[t][j]\n",
        "\n",
        "            denom = 0\n",
        "            for t in range(len(price_diff_sequence)):\n",
        "                denom += Gamma[t][j]\n",
        "\n",
        "            prob_transit = numer/denom\n",
        "            \n",
        "            mu_sigma_pair = []\n",
        "            for index1, item1 in enumerate(np.arange(-0.2+0.133*j,-0.066+0.133*j,0.02)):\n",
        "                for index2, item2 in enumerate(np.arange(0.01,0.06,0.02)):\n",
        "                    mu_sigma_pair.append([item1,item2])\n",
        "                    #print(mu_sigma_pair)\n",
        "            #best_mu_index = np.argmin([np.abs(norm.cdf((price_sequence[t]+epsilon-mu)/B[j][1])\\\n",
        "            #                                  - norm.cdf((price_sequence[t]-epsilon-mu)/B[j][1]) \\\n",
        "            #                                  - prob_transit) for mu in np.arange(B[j][0]-2,B[j][0]+2,0.5)])\n",
        "            \n",
        "            #best_sigma_index = np.argmin([np.abs(norm.cdf((price_diff_sequence[t]+epsilon-B[j][0])/sigma)\\\n",
        "            #                                  - norm.cdf((price_diff_sequence[t]-epsilon-B[j][0])/sigma) \\\n",
        "            #                                  - prob_transit) for sigma in np.arange(0.1+0.1*j,0.11+0.1*j,0.02)])\n",
        "            best_index = np.argmin([np.abs(norm.cdf((price_diff_sequence[t]+epsilon-item[0])/item[1])\\\n",
        "                                              - norm.cdf((price_diff_sequence[t]-epsilon-item[0])/item[1]) \\\n",
        "                                              - prob_transit) for index, item in enumerate(mu_sigma_pair)])\n",
        "            #print(best_index)\n",
        "        B_new[j][0] = mu_sigma_pair[best_index][0] # the mean is updated\n",
        "        #B_new[j][1] = B[j][1] # the deviation remains unchanged\n",
        "        B_new[j][1] = mu_sigma_pair[best_index][1] # the deviation is updated\n",
        "        #B_new[j][0] = B[j][0] # the mean remains unchanged\n",
        "        #B_new[j][1] = np.arange(0.01,0.6,0.1)[best_sigma_index]\n",
        "      \n",
        "    return [Pi_new, A_new, B_new]\n",
        "\n",
        "#model_update(Pi,A,B) "
      ],
      "execution_count": 0,
      "outputs": []
    },
    {
      "cell_type": "markdown",
      "metadata": {
        "id": "ie2CTCFTMYNb",
        "colab_type": "text"
      },
      "source": [
        "### Calculate the log of P(O|lambda). We will denote it by log probability in the following contexts."
      ]
    },
    {
      "cell_type": "markdown",
      "metadata": {
        "id": "V4GpWWj9pF_u",
        "colab_type": "text"
      },
      "source": [
        "$1= \\sum_{j}\\hat{\\alpha}_{T-1}(j)=c_{0}\\dots c_{T-1}P(O|\\lambda)$ \n",
        "\n",
        "$\\log P(O|\\lambda) = -\\sum_{i=1}^{T-1}\\log c_{i}$"
      ]
    },
    {
      "cell_type": "code",
      "metadata": {
        "id": "ZSxS-C3ZMdYS",
        "colab_type": "code",
        "outputId": "3b1fb111-a42e-4bcc-b88a-111a530fcb10",
        "colab": {
          "base_uri": "https://localhost:8080/",
          "height": 34
        }
      },
      "source": [
        "def LogProb(Pi,A,B):\n",
        "    c = forward_pass(Pi,A,B)[1]\n",
        "    logProb = np.sum([-np.log(item) for index, item in enumerate(c)])\n",
        "    return logProb\n",
        "LogProb(Pi,A,B) #uncomment to test"
      ],
      "execution_count": 0,
      "outputs": [
        {
          "output_type": "execute_result",
          "data": {
            "text/plain": [
              "-408.4546168935725"
            ]
          },
          "metadata": {
            "tags": []
          },
          "execution_count": 46
        }
      ]
    },
    {
      "cell_type": "markdown",
      "metadata": {
        "id": "Fak8IM31MqQB",
        "colab_type": "text"
      },
      "source": [
        "### Return Pi, A, B and log_prob based on many iterations.\n",
        "\n",
        "\n",
        "\n",
        "\n",
        "\n"
      ]
    },
    {
      "cell_type": "code",
      "metadata": {
        "id": "zbdzyKLiFf9_",
        "colab_type": "code",
        "colab": {}
      },
      "source": [
        "def improvement_global(Pi,A,B,max_iters=10):\n",
        "    # initialization\n",
        "    print(\"LogProb was \", LogProb(Pi,A,B), \" initially.\")\n",
        "    print(\"____________________________________________________\")\n",
        "    params = []\n",
        "    \n",
        "    # iteration\n",
        "    for rounds in range(1,max_iters+1):         \n",
        "        print(\"Round %d starts.\" % rounds)        \n",
        "        [Pi, A, B] =  [model_update(Pi,A,B)[0],model_update(Pi,A,B)[1],model_update(Pi,A,B)[2]] \n",
        "        Log = LogProb(Pi, A, B)\n",
        "        print([Pi,A,B,Log])\n",
        "        params.append([Pi,A,B,Log]) # The initial is not attached to params.\n",
        "        print(\"The log probability after this round of updating is %.3f \" % Log)\n",
        "        print(\"____________________________________________________\")\n",
        "        \n",
        "    # store results\n",
        "    best_index = np.argmax(np.array([item[3] for index, item in enumerate(params)]))\n",
        "    best_params = params[best_index]\n",
        "    print(best_params)\n",
        "    \n",
        "    #return best_params\n",
        "    return best_params\n"
      ],
      "execution_count": 0,
      "outputs": []
    },
    {
      "cell_type": "code",
      "metadata": {
        "id": "rNC-iDa-hBz6",
        "colab_type": "code",
        "outputId": "af432568-8308-4054-f31a-f9541e7192e7",
        "colab": {
          "base_uri": "https://localhost:8080/",
          "height": 833
        }
      },
      "source": [
        "import time\n",
        "t = time.time()\n",
        "best_params = improvement_global(Pi,A,B,5)\n",
        "elapsed = time.time()-t\n",
        "print(\"Elapsed time is %.3f seconds.\" % elapsed)"
      ],
      "execution_count": 0,
      "outputs": [
        {
          "output_type": "stream",
          "text": [
            "LogProb was  -408.4546168935725  initially.\n",
            "____________________________________________________\n",
            "Round 1 starts.\n",
            "[array([4.43817322e-07, 4.65973487e-01, 5.34026069e-01]), array([[0.25395541, 0.49589747, 0.25014712],\n",
            "       [0.25586962, 0.49599283, 0.24813755],\n",
            "       [0.25816131, 0.49609892, 0.24573977]]), array([[-0.16 ,  0.01 ],\n",
            "       [ 0.013,  0.05 ],\n",
            "       [ 0.086,  0.03 ]]), -28.046388320244578]\n",
            "The log probability after this round of updating is -28.046 \n",
            "____________________________________________________\n",
            "Round 2 starts.\n",
            "[array([0.        , 0.43006831, 0.56993169]), array([[0.2361371 , 0.508847  , 0.2550159 ],\n",
            "       [0.236358  , 0.51010273, 0.25353927],\n",
            "       [0.23875502, 0.51015614, 0.25108884]]), array([[-0.16 ,  0.01 ],\n",
            "       [ 0.013,  0.05 ],\n",
            "       [ 0.126,  0.01 ]]), -30.18905608824851]\n",
            "The log probability after this round of updating is -30.189 \n",
            "____________________________________________________\n",
            "Round 3 starts.\n",
            "[array([0.       , 0.3948815, 0.6051185]), array([[0.22049928, 0.52352919, 0.25597153],\n",
            "       [0.21930779, 0.52586184, 0.25483037],\n",
            "       [0.22210724, 0.525414  , 0.25247876]]), array([[-0.16 ,  0.01 ],\n",
            "       [ 0.013,  0.05 ],\n",
            "       [ 0.126,  0.01 ]]), -28.558413522488266]\n",
            "The log probability after this round of updating is -28.558 \n",
            "____________________________________________________\n",
            "Round 4 starts.\n",
            "[array([0.        , 0.36075131, 0.63924869]), array([[0.20583254, 0.53772185, 0.25644561],\n",
            "       [0.20341309, 0.54101903, 0.25556788],\n",
            "       [0.20656079, 0.54009024, 0.25334897]]), array([[-0.16 ,  0.01 ],\n",
            "       [ 0.013,  0.05 ],\n",
            "       [ 0.126,  0.01 ]]), -27.045777703122525]\n",
            "The log probability after this round of updating is -27.046 \n",
            "____________________________________________________\n",
            "Round 5 starts.\n",
            "[array([0.        , 0.32797218, 0.67202782]), array([[0.19208412, 0.55143811, 0.25647777],\n",
            "       [0.18860631, 0.55559412, 0.25579956],\n",
            "       [0.19205068, 0.55420582, 0.2537435 ]]), array([[-0.16 ,  0.01 ],\n",
            "       [ 0.013,  0.05 ],\n",
            "       [ 0.126,  0.01 ]]), -25.641386374444355]\n",
            "The log probability after this round of updating is -25.641 \n",
            "____________________________________________________\n",
            "[array([0.        , 0.32797218, 0.67202782]), array([[0.19208412, 0.55143811, 0.25647777],\n",
            "       [0.18860631, 0.55559412, 0.25579956],\n",
            "       [0.19205068, 0.55420582, 0.2537435 ]]), array([[-0.16 ,  0.01 ],\n",
            "       [ 0.013,  0.05 ],\n",
            "       [ 0.126,  0.01 ]]), -25.641386374444355]\n",
            "Elapsed time is 6931.573 seconds.\n"
          ],
          "name": "stdout"
        }
      ]
    },
    {
      "cell_type": "markdown",
      "metadata": {
        "id": "H6bGvIO1-zu7",
        "colab_type": "text"
      },
      "source": [
        "### It seems like \n",
        "\n",
        "1.   under the bear market, the stock price will decrease 16% on a daily basis, with 1% of variance in the percentage change;\n",
        "2.   under the normal market, the stock price will increase 1.3% on a daily basis, with 5% of variance in the percentage change;\n",
        "3.   under the bull market, the stock price will decrease 12.6% on a daily basis, with 1% of variance in the percentage change.\n",
        "4.   once in a bear or bull market, we will move back to a normal market with higher probability instead of staying in the same market. \n",
        "5.   overall this stock is growing with a steady pace.\n",
        "\n",
        "#### Note that under some market policies, the stock price can only variate from -10% to 10%. More work needs to be done for our model to be applied in a real market! Assume for simplicity that our stock price does not follow this market rule, let us see how well our model fits the real test data. \n",
        "\n",
        "\n",
        "\n"
      ]
    },
    {
      "cell_type": "markdown",
      "metadata": {
        "id": "BnS5JjQRBcxb",
        "colab_type": "text"
      },
      "source": [
        "### Classification of the hidden states. Choose the hidden state to be the one such that its governing normal distribution mean is closest to the actual price growth (difference)."
      ]
    },
    {
      "cell_type": "code",
      "metadata": {
        "id": "lhK1MOb2dj4O",
        "colab_type": "code",
        "colab": {}
      },
      "source": [
        "def detect_state(price_diff):\n",
        "    return np.argmin([np.abs(price_diff - item) for index, item in enumerate([-0.16,0.013,0.126])])\n",
        "    \n",
        "test_state = [detect_state(item) for index, item in enumerate(test_diff)]"
      ],
      "execution_count": 0,
      "outputs": []
    },
    {
      "cell_type": "markdown",
      "metadata": {
        "id": "0wX6us6RCVq2",
        "colab_type": "text"
      },
      "source": [
        "### Classification of the hidden states on the test data. Each row of the resulting matrix counts the number of each state in the next day provided that the state of the current day is known. For example, in row 2, the current day is in a normal market, we see 13 cases of bear market, 140 cases of normal market, 11 cases of bull market in the next day."
      ]
    },
    {
      "cell_type": "code",
      "metadata": {
        "id": "MhJ1JIFTEBJ2",
        "colab_type": "code",
        "outputId": "81f6d8e3-789f-4c24-8b7a-b05d990dbe8f",
        "colab": {
          "base_uri": "https://localhost:8080/",
          "height": 68
        }
      },
      "source": [
        "Count_00 = 0\n",
        "Count_01 = 0\n",
        "Count_02 = 0\n",
        "Count_10 = 0\n",
        "Count_11 = 0\n",
        "Count_12 = 0\n",
        "Count_20 = 0\n",
        "Count_21 = 0\n",
        "Count_22 = 0\n",
        "for index, item in enumerate([[test_state[i], test_state[i+1]] for i in range(len(test_state)-1)]):\n",
        "    if item[0] == 0:\n",
        "       if item[1] == 0:\n",
        "          Count_00 += 1\n",
        "       elif item[1] == 1:\n",
        "            Count_01 += 1\n",
        "       else:\n",
        "            Count_02 += 1\n",
        "    elif item[0] == 1:\n",
        "       if item[1] == 0:\n",
        "          Count_10 += 1\n",
        "       elif item[1] == 1:\n",
        "            Count_11 += 1\n",
        "       else:\n",
        "            Count_12 += 1\n",
        "    else:\n",
        "       if item[1] == 0:\n",
        "          Count_20 += 1\n",
        "       elif item[1] == 1:\n",
        "            Count_21 += 1\n",
        "       else:\n",
        "            Count_22 += 1\n",
        "          \n",
        "np.array([[Count_00,Count_01,Count_02],[Count_10,Count_11,Count_12],[Count_20,Count_21,Count_22]])\n",
        "    "
      ],
      "execution_count": 0,
      "outputs": [
        {
          "output_type": "execute_result",
          "data": {
            "text/plain": [
              "array([[  0,  11,   4],\n",
              "       [ 13, 140,  11],\n",
              "       [  2,  12,   5]])"
            ]
          },
          "metadata": {
            "tags": []
          },
          "execution_count": 55
        }
      ]
    },
    {
      "cell_type": "markdown",
      "metadata": {
        "id": "RQgIVm5YDVOd",
        "colab_type": "text"
      },
      "source": [
        "### The result on the test set validates that the stock is at most time in a normal market.\n",
        "\n",
        "### Directions of improvement: \n",
        "\n",
        "Choose the number of states more carefully. We chose three in this project for a demonstration. We can do better with more effort. A larger number of hidden states, and a finer partition of the growth rate would very likely to give more insightful volatility information.\n",
        "\n",
        "\n"
      ]
    }
  ]
}